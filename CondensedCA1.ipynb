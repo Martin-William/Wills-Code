{
  "nbformat": 4,
  "nbformat_minor": 0,
  "metadata": {
    "colab": {
      "name": "Untitled7.ipynb",
      "provenance": [],
      "authorship_tag": "ABX9TyM0aZnvbaNjZyyeOfvKIzxK",
      "include_colab_link": true
    },
    "kernelspec": {
      "name": "python3",
      "display_name": "Python 3"
    },
    "language_info": {
      "name": "python"
    }
  },
  "cells": [
    {
      "cell_type": "markdown",
      "metadata": {
        "id": "view-in-github",
        "colab_type": "text"
      },
      "source": [
        "<a href=\"https://colab.research.google.com/github/Martin-William/Wills-Code/blob/main/CondensedCA1.ipynb\" target=\"_parent\"><img src=\"https://colab.research.google.com/assets/colab-badge.svg\" alt=\"Open In Colab\"/></a>"
      ]
    },
    {
      "cell_type": "code",
      "source": [
        "import numpy as np\n",
        "import itertools\n",
        "import matplotlib.pyplot as plt\n"
      ],
      "metadata": {
        "id": "3uPh9t0zyaSm"
      },
      "execution_count": 6,
      "outputs": []
    },
    {
      "cell_type": "code",
      "source": [
        "array = np.array(list(itertools.product([-3,-2,-1,0,1, 2, 3], repeat=3)))\n",
        "\n",
        "#print (array)\n",
        "\n",
        "i1 = np.array([1])\n",
        "i2 = np.array([1])\n",
        "x = np.array([1])\n",
        "y = np.array([1])\n",
        "\n",
        "for i in array:\n",
        "  h = i[0]\n",
        "  k = i[1]\n",
        "  l = i[2]\n",
        "\n",
        "  i1 = np.r_[ i1, (2*k*l)/((k**2)+(h**2)-(l**2))]\n",
        "  i2 = np.r_[ i2,(2*h*l)/((k**2)+(h**2)-(l**2))]\n",
        "\n",
        "  #print(i)\n",
        "  #print('x = 2kl/(k^2+h^2-l^2) = ',(2*k*l)/((k**2)+(h**2)-(l**2)),'\\ny = 2hl/(k^2+h^2-l^2) =', (2*h*l)/((k**2)+(h**2)-(l**2)))\n",
        "\n",
        "print(np.c_[ array, i1[1:], i2[1:]])\n",
        "for i in i1:\n",
        "  if (i <= 1) & (i >= -1):\n",
        "    x = np.r_[x, i]\n",
        "\n",
        "for i in i2:\n",
        "  if (i <= 1) & (i >= -1):\n",
        "    y = np.r_[y, i]    \n",
        "\n",
        "plt.plot(x[1:],y[1:],'.')"
      ],
      "metadata": {
        "colab": {
          "base_uri": "https://localhost:8080/",
          "height": 561
        },
        "id": "s9gc0XM640DD",
        "outputId": "dae50e66-2429-4fcf-9263-1560766df42f"
      },
      "execution_count": 14,
      "outputs": [
        {
          "output_type": "stream",
          "name": "stdout",
          "text": [
            "[[-3.         -3.         -3.          2.          2.        ]\n",
            " [-3.         -3.         -2.          0.85714286  0.85714286]\n",
            " [-3.         -3.         -1.          0.35294118  0.35294118]\n",
            " ...\n",
            " [ 3.          3.          1.          0.35294118  0.35294118]\n",
            " [ 3.          3.          2.          0.85714286  0.85714286]\n",
            " [ 3.          3.          3.          2.          2.        ]]\n"
          ]
        },
        {
          "output_type": "stream",
          "name": "stderr",
          "text": [
            "/usr/local/lib/python3.7/dist-packages/ipykernel_launcher.py:15: RuntimeWarning: invalid value encountered in long_scalars\n",
            "  from ipykernel import kernelapp as app\n",
            "/usr/local/lib/python3.7/dist-packages/ipykernel_launcher.py:16: RuntimeWarning: divide by zero encountered in long_scalars\n",
            "  app.launch_new_instance()\n",
            "/usr/local/lib/python3.7/dist-packages/ipykernel_launcher.py:15: RuntimeWarning: divide by zero encountered in long_scalars\n",
            "  from ipykernel import kernelapp as app\n",
            "/usr/local/lib/python3.7/dist-packages/ipykernel_launcher.py:16: RuntimeWarning: invalid value encountered in long_scalars\n",
            "  app.launch_new_instance()\n"
          ]
        },
        {
          "output_type": "execute_result",
          "data": {
            "text/plain": [
              "[<matplotlib.lines.Line2D at 0x7f963df19210>]"
            ]
          },
          "metadata": {},
          "execution_count": 14
        },
        {
          "output_type": "display_data",
          "data": {
            "image/png": "[encoded data removed]",
            "text/plain": [
              "<Figure size 432x288 with 1 Axes>"
            ]
          },
          "metadata": {
            "needs_background": "light"
          }
        }
      ]
    }
  ]
}