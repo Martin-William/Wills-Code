{
  "nbformat": 4,
  "nbformat_minor": 0,
  "metadata": {
    "colab": {
      "name": "Untitled7.ipynb",
      "provenance": [],
      "authorship_tag": "ABX9TyMdaUUzYKA9T61P/0SWoWd5",
      "include_colab_link": true
    },
    "kernelspec": {
      "name": "python3",
      "display_name": "Python 3"
    },
    "language_info": {
      "name": "python"
    }
  },
  "cells": [
    {
      "cell_type": "markdown",
      "metadata": {
        "id": "view-in-github",
        "colab_type": "text"
      },
      "source": [
        "<a href=\"https://colab.research.google.com/github/Martin-William/Wills-Code/blob/main/CondensedCA1.ipynb\" target=\"_parent\"><img src=\"https://colab.research.google.com/assets/colab-badge.svg\" alt=\"Open In Colab\"/></a>"
      ]
    },
    {
      "cell_type": "code",
      "source": [
        "import numpy as np\n",
        "import itertools\n",
        "import matplotlib.pyplot as plt\n"
      ],
      "metadata": {
        "id": "3uPh9t0zyaSm"
      },
      "execution_count": 6,
      "outputs": []
    },
    {
      "cell_type": "markdown",
      "source": [
        "PX2236 - Introduction to Condensed Matter Physics\n",
        "\n",
        "CA Problem 1 (15% of Module Mark)\n",
        "\n",
        "This coursework is due to be handed in online via Learning Central on\n",
        "Fri 11 Mar 2022, at 14:00. There will be no opportunity to hand in physically.\n",
        "Digital photos (eg phone) of your workings are acceptable as long as they are\n",
        "clear and readable, but please try to type up your answers and embed any\n",
        "images. I will not accept coursework by email.\n",
        "\n",
        "This exercise is designed to aid your understanding of X-ray diffraction. It\n",
        "should also demonstrate to you that even 2nd year physics knowledge can\n",
        "take you a long way in terms of interpreting real data.\n",
        "\n",
        "We saw during the lectures that a collimated X-ray beam will be diffracted\n",
        "from different crystal planes. These diffracted beams can be observed as\n",
        "Laue spots on a photographic plate placed after the crystal. However, there\n",
        "are a number of advantages to performing the same experiment in a slightly\n",
        "different geometry, as described in figure 1. Here the photographic plate is\n",
        "placed between the X-ray source and the crystal. The X-ray beam travels\n",
        "though a hole in the centre of the photographic plate, and the reflected X-ray\n",
        "beams are directed backwards in the direction of the X-ray source.\n",
        "\n",
        "![]\n",
        "\n",
        "Figure 1: X-ray diffraction in the back-scattering geometry. \n",
        "\n",
        "The X-ray is propagating in the positive ˆk direction and the scattered (reflected) X-ray beams are directed backwards in the direction of the X-ray source. The point P is the Laue spot formed by reflection off the crystal plane (hkl).\n",
        "\n",
        "#Problem:\n",
        "\n",
        "Certain ideal cases have very simple analytical solutions. For example, if the crystal has a cubic lattice, and it is orientated so that the face (1 0 0) is perpendicular to the incoming X-ray beam, then the cartesian coordinates\n",
        "(x, y)hkl of the back-scattered Laue spots associated with the crystal plane\n",
        "(hkl) are given by the simple equation,\n",
        "\n",
        "$\n",
        "(x, y)_{hkl} = (h, k) \\frac{2l}{h2 + k2 − l2}D , (1)\n",
        "$\n",
        "\n",
        "where D is the distance between the crystal and the photographic plate.\n",
        "\n",
        "Then by considering all the possible integer values h, k, l we can map out all\n",
        "the Laue spots in the plane of the photographic plate (here the x − y plane,\n",
        "using the geometry in figure 1).\n",
        "\n",
        "- Part (a): As a first approximation consider h, k, l = 0, ±1, ±2 ± 3. Construct a table of with all the unique permutations and use this to calculate\n",
        "the corresponding positions (x, y) of the Laue spots in the x − y plane. You\n",
        "can assume for simplicity that D = 1. Feel free to use any software you wish\n",
        "(such as Excel or Python etc) if it makes this task easier. [15 marks]\n",
        "\n",
        "- Part (b): Making reference to this table, can you explain why some Laue spots\n",
        "might be more pronounced (brighter or darker) than others? [5 marks]\n",
        "\n",
        "- Part (c): Use the values in your table to plot out the expected Laue spot\n",
        "pattern. Note that it is important to realise that the photographic plate does not extend to infinity. Plot your results in a square window where the axes only go as far as x = ±1.1 and y = ±1.1. Ignore Laue spots that are scattered at\n",
        "higher angles that would miss the photographic plate. [20 marks]\n",
        "\n",
        "- Part (d): Compare your result against a real X-ray diffraction pattern recorded\n",
        "for single crystal NaCl in figure 2, and identify which planes produced the\n",
        "spots labelled A-J. [20 marks]\n",
        "\n",
        "- Part (e): Using the geometry described in figure 1, together with the Laue\n",
        "condition, prove that equation (1) does indeed give the correct position of the\n",
        "Laue spots. [40 marks]\n"
      ],
      "metadata": {
        "id": "hDQJAAhBNU8M"
      }
    },
    {
      "cell_type": "code",
      "source": [
        "#creates an \n",
        "array = np.array(list(itertools.product([-3,-2,-1,0,1, 2, 3], repeat=3)))\n",
        "\n",
        "#print (array)\n",
        "\n",
        "i1 = np.array([1])\n",
        "i2 = np.array([1])\n",
        "x = np.array([1])\n",
        "y = np.array([1])\n",
        "\n",
        "for i in array:\n",
        "  h = i[0]\n",
        "  k = i[1]\n",
        "  l = i[2]\n",
        "\n",
        "  i1 = np.r_[ i1, (2*k*l)/((k**2)+(h**2)-(l**2))]\n",
        "  i2 = np.r_[ i2,(2*h*l)/((k**2)+(h**2)-(l**2))]\n",
        "\n",
        "  #print(i)\n",
        "  #print('x = 2kl/(k^2+h^2-l^2) = ',(2*k*l)/((k**2)+(h**2)-(l**2)),'\\ny = 2hl/(k^2+h^2-l^2) =', (2*h*l)/((k**2)+(h**2)-(l**2)))\n",
        "\n",
        "i1 = i1[1:]\n",
        "i2 = i2[1:]\n",
        "\n",
        "\n",
        "print(np.c_[ array, i1, i2])\n",
        "\n",
        "a = 0\n",
        "for i in i1:\n",
        "  if (i <= 1) & (i >= -1):\n",
        "    if (i2[a] <= 1) & (i2[a] >= -1):\n",
        "      x = np.r_[x, i]\n",
        "      y = np.r_[y, i2[a]]\n",
        "  a = a + 1    \n",
        "\n",
        "x = x[1:]\n",
        "y = y[1:]\n",
        "\n",
        "plt.plot(x,y,'.')"
      ],
      "metadata": {
        "colab": {
          "base_uri": "https://localhost:8080/",
          "height": 561
        },
        "id": "s9gc0XM640DD",
        "outputId": "da7a1b02-a0fb-485b-e64d-89089352c0b0"
      },
      "execution_count": 36,
      "outputs": [
        {
          "output_type": "stream",
          "name": "stdout",
          "text": [
            "[[-3.         -3.         -3.          2.          2.        ]\n",
            " [-3.         -3.         -2.          0.85714286  0.85714286]\n",
            " [-3.         -3.         -1.          0.35294118  0.35294118]\n",
            " ...\n",
            " [ 3.          3.          1.          0.35294118  0.35294118]\n",
            " [ 3.          3.          2.          0.85714286  0.85714286]\n",
            " [ 3.          3.          3.          2.          2.        ]]\n"
          ]
        },
        {
          "output_type": "stream",
          "name": "stderr",
          "text": [
            "/usr/local/lib/python3.7/dist-packages/ipykernel_launcher.py:15: RuntimeWarning: invalid value encountered in long_scalars\n",
            "  from ipykernel import kernelapp as app\n",
            "/usr/local/lib/python3.7/dist-packages/ipykernel_launcher.py:16: RuntimeWarning: divide by zero encountered in long_scalars\n",
            "  app.launch_new_instance()\n",
            "/usr/local/lib/python3.7/dist-packages/ipykernel_launcher.py:15: RuntimeWarning: divide by zero encountered in long_scalars\n",
            "  from ipykernel import kernelapp as app\n",
            "/usr/local/lib/python3.7/dist-packages/ipykernel_launcher.py:16: RuntimeWarning: invalid value encountered in long_scalars\n",
            "  app.launch_new_instance()\n"
          ]
        },
        {
          "output_type": "execute_result",
          "data": {
            "text/plain": [
              "[<matplotlib.lines.Line2D at 0x7f9634ff9ad0>]"
            ]
          },
          "metadata": {},
          "execution_count": 36
        },
        {
          "output_type": "display_data",
          "data": {
            "image/png": "[encoded data removed]",
            "text/plain": [
              "<Figure size 432x288 with 1 Axes>"
            ]
          },
          "metadata": {
            "needs_background": "light"
          }
        }
      ]
    }
  ]
}