{
  "nbformat": 4,
  "nbformat_minor": 0,
  "metadata": {
    "colab": {
      "name": "Synoptic_Calculations.ipynb",
      "provenance": [],
      "authorship_tag": "ABX9TyPvVSV/vew3cpBLhthV3sz4",
      "include_colab_link": true
    },
    "kernelspec": {
      "name": "python3",
      "display_name": "Python 3"
    },
    "language_info": {
      "name": "python"
    }
  },
  "cells": [
    {
      "cell_type": "markdown",
      "metadata": {
        "id": "view-in-github",
        "colab_type": "text"
      },
      "source": [
        "<a href=\"https://colab.research.google.com/github/Martin-William/Wills-Code/blob/main/Synoptic_Calculations.ipynb\" target=\"_parent\"><img src=\"https://colab.research.google.com/assets/colab-badge.svg\" alt=\"Open In Colab\"/></a>"
      ]
    },
    {
      "cell_type": "markdown",
      "source": [
        "# Synoptic Calculation sheet"
      ],
      "metadata": {
        "id": "W3BaHTi8R5eC"
      }
    },
    {
      "cell_type": "code",
      "source": [
        "import numpy as np\n",
        "PI = 3.141592653589793"
      ],
      "metadata": {
        "id": "r6zuPs-FWamX"
      },
      "execution_count": 3,
      "outputs": []
    },
    {
      "cell_type": "markdown",
      "source": [
        "# Week 1:"
      ],
      "metadata": {
        "id": "hGOMThmxSNU5"
      }
    },
    {
      "cell_type": "markdown",
      "source": [
        "$\n",
        "T = (\\frac{2}{L} )^{1/2}\n",
        "$"
      ],
      "metadata": {
        "id": "BfNJ9i_L5WwZ"
      }
    },
    {
      "cell_type": "code",
      "source": [
        "f = 100*2**0.5\n",
        "print (f)"
      ],
      "metadata": {
        "colab": {
          "base_uri": "https://localhost:8080/"
        },
        "id": "daGL9-psSNGp",
        "outputId": "969eb47f-d96e-45c0-8f5f-6f48e024d109"
      },
      "execution_count": null,
      "outputs": [
        {
          "output_type": "stream",
          "name": "stdout",
          "text": [
            "141.4213562373095\n"
          ]
        }
      ]
    },
    {
      "cell_type": "markdown",
      "source": [
        "# Week 2:"
      ],
      "metadata": {
        "id": "yMOCcCPJTPKR"
      }
    },
    {
      "cell_type": "markdown",
      "source": [
        "A cantilever is constructed of steel, with Length L, width W and thickness T:\n",
        "\n",
        "![image.png](data:image/png;base64,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)\n",
        "\n",
        "**1. What is the standard formula for the spring constant of a cantilever ?**\n",
        "\n",
        "Equation for the Spring constant, k, given dimensions and Young’s modulus of a rectangle:\n",
        "\n",
        "$k = (E ∗ W ∗ T^3) / (4 ∗ L^3)$\n",
        "\n",
        "E = Youngs modulus (Kg /m*s^2 or Pa), W = Width (m), T = Thickness (m), L = Length (m)\n",
        "\n",
        "\n",
        "**2. What is the frequency with which a mass, $m$, oscillates on a spring with spring constant, $k$ ?**\n",
        "\n",
        "Equation for the Frequency, $f$.\n",
        "\n",
        "$f = ω/2π$, $ω = (k/m)^{1/2}$\n",
        "\n",
        "so: $f = (1/2π)∗(k/m)^{1/2}$\n",
        "\n",
        "$k$ = spring constant(N/m, Kg/s^2), $m$ = mass (Kg)\n",
        "\n",
        "**3. By combining the expressions, obtain the expression for the resonant frequency of the cantilever.**\n",
        "\n",
        "\n",
        "Equation for the resonant frequency, $f_c$:\n",
        "\n",
        "$f = (1/2π)∗(k/m)^{1/2}, k = (E ∗ W ∗ T^3) / (4 ∗ L^3)$\n",
        "\n",
        "so:$ f_c = (1/2π)∗((E ∗ W ∗ T^3) / (4 ∗ L^3 ∗ m))^{1/2}$\n",
        "\n",
        "\n",
        "**4. Show, by dimensional analysis, that this is correct.**\n",
        "\n",
        "$fc = (1/2π)∗(\\frac{(E ∗ W ∗ T^3)}{(4 ∗ L^3 ∗ m)})^{1/2}$\n",
        "\n",
        "$1 / s = (\\frac{(Kg /m*s^2) * m * m^3)}{(m^3 * Kg)})^{1/2} = ((Kg / Kg) (m / m*s^2)( m^3 / m^3))^{1/2} = (m / m*s^2)^{1/2}= (1 / s^2)^{1/2} = 1 / s$"
      ],
      "metadata": {
        "id": "6R0NwP2f1Xn2"
      }
    },
    {
      "cell_type": "code",
      "source": [
        "\n",
        "L = 5000 * 10**(-9)\n",
        "W = 200 * 10**(-9)\n",
        "T = 100 * 10**(-9)\n",
        "E = 169 * 10**(9)\n",
        "\n",
        "k = (E*W*T**3)/(4*L**3)\n",
        "\n",
        "print('Parrallel crystal spring constant:', k)\n",
        "\n",
        "L = 5000 * 10**(-9)\n",
        "W = 200 * 10**(-9)\n",
        "T = 100 * 10**(-9)\n",
        "E = 130 * 10**(9)\n",
        "\n",
        "k = (E*W*T**3)/(4*L**3)\n",
        "\n",
        "print('Diagonal(45 degree) crystal spring constant:', k)"
      ],
      "metadata": {
        "id": "qpUi-dZl1W4w",
        "colab": {
          "base_uri": "https://localhost:8080/"
        },
        "outputId": "072b0f66-25dc-44e1-d603-44303700d636"
      },
      "execution_count": null,
      "outputs": [
        {
          "output_type": "stream",
          "name": "stdout",
          "text": [
            "Parrallel crystal spring constant: 0.0676\n",
            "Diagonal(45 degree) crystal spring constant: 0.052000000000000005\n"
          ]
        }
      ]
    },
    {
      "cell_type": "code",
      "source": [
        "L = 5000 * 10**(-9)\n",
        "W = 200 * 10**(-9)\n",
        "T = 100 * 10**(-9)\n",
        "E = 169 * 10**(9)\n",
        "m = L * T * W * 2330\n",
        "print('mass =',m,'Kg\\n\\n')\n",
        "\n",
        "f = (1/2*PI)*(((E*W*T**3)/(4*m*L**3))**0.5)\n",
        "\n",
        "print('Parrallel crystal Resonant Frequency:', f,'Hz')\n",
        "\n",
        "#to change the frequency by 1 Hz\n",
        "m = (((1/2*PI)*(((E*W*T**3)/(4*L**3))**0.5))/(f+1))**2\n",
        "\n",
        "print('to change the frequency by 1 Hz requires',m,'Kg')\n",
        "\n",
        "L = 5000 * 10**(-9)\n",
        "W = 200 * 10**(-9)\n",
        "T = 100 * 10**(-9)\n",
        "E = 130 * 10**(9)\n",
        "m = L*T*W * 2330\n",
        "print('\\n\\n')\n",
        "\n",
        "f = (1/2*PI)*(((E*W*T**3)/(4*m*L**3))**0.5)\n",
        "\n",
        "print('Diagonal(45 degree) crystal Resonant Frequency:', f,'Hz')\n",
        "\n",
        "#to change the frequency by 1 Hz\n",
        "m = (((1/2*PI)*(((E*W*T**3)/(4*L**3))**0.5))/(f+1))**2\n",
        "\n",
        "print('to change the frequency by 1 Hz requires',m,'Kg')"
      ],
      "metadata": {
        "colab": {
          "base_uri": "https://localhost:8080/"
        },
        "id": "G4nM5wCdVk-N",
        "outputId": "e0d84eac-b2ea-4ac6-da12-3c9de8de2a70"
      },
      "execution_count": null,
      "outputs": [
        {
          "output_type": "stream",
          "name": "stdout",
          "text": [
            "mass = 2.3300000000000004e-16 Kg\n",
            "\n",
            "\n",
            "Parrallel crystal Resonant Frequency: 26755635.111276444 Hz\n",
            "to change the frequency by 1 Hz requires 2.3299998258310925e-16 Kg\n",
            "\n",
            "\n",
            "\n",
            "Diagonal(45 degree) crystal Resonant Frequency: 23466244.335997723 Hz\n",
            "to change the frequency by 1 Hz requires 2.329999801416894e-16 Kg\n"
          ]
        }
      ]
    },
    {
      "cell_type": "code",
      "source": [
        "print(m)\n",
        "\n",
        "number = m/(313.28* 1.6605E-27)\n",
        "\n",
        "print('number or rohypnol molecules that go into the de3tectable mass:',number,'no units')"
      ],
      "metadata": {
        "colab": {
          "base_uri": "https://localhost:8080/"
        },
        "id": "W9kugwv1Zo4a",
        "outputId": "6cc2367e-1051-4c53-ab42-68676f474b1b"
      },
      "execution_count": null,
      "outputs": [
        {
          "output_type": "stream",
          "name": "stdout",
          "text": [
            "2.329999801416894e-16\n",
            "number or rohypnol molecules that go into the de3tectable mass: 447903374.0115934 no units\n"
          ]
        }
      ]
    },
    {
      "cell_type": "code",
      "source": [
        "A = (4*2.46e-10)**2\n",
        "print(A)"
      ],
      "metadata": {
        "id": "S5pT7xNJf0m0",
        "outputId": "219e2ee8-cad4-4d7c-9f38-c7e32c92d327",
        "colab": {
          "base_uri": "https://localhost:8080/"
        }
      },
      "execution_count": null,
      "outputs": [
        {
          "output_type": "stream",
          "name": "stdout",
          "text": [
            "9.682559999999998e-19\n"
          ]
        }
      ]
    },
    {
      "cell_type": "code",
      "source": [
        "a = A * number\n",
        "print(a)"
      ],
      "metadata": {
        "id": "04NlUrvQgRIS",
        "outputId": "751ce5da-9dae-4606-d778-321dcda4519e",
        "colab": {
          "base_uri": "https://localhost:8080/"
        }
      },
      "execution_count": null,
      "outputs": [
        {
          "output_type": "stream",
          "name": "stdout",
          "text": [
            "4.336851293069693e-10\n"
          ]
        }
      ]
    },
    {
      "cell_type": "code",
      "source": [
        "topA = L * W\n",
        "print(L, W)\n",
        "print(topA)"
      ],
      "metadata": {
        "id": "fUV7sIFjg5dK",
        "outputId": "ba4d2239-b1f3-4c9b-fd61-7fca6bcc1cad",
        "colab": {
          "base_uri": "https://localhost:8080/"
        }
      },
      "execution_count": null,
      "outputs": [
        {
          "output_type": "stream",
          "name": "stdout",
          "text": [
            "5e-06 2.0000000000000002e-07\n",
            "1.0000000000000002e-12\n"
          ]
        }
      ]
    },
    {
      "cell_type": "markdown",
      "source": [
        "# Week 3"
      ],
      "metadata": {
        "id": "-JMxZdpM5h4m"
      }
    },
    {
      "cell_type": "markdown",
      "source": [
        ""
      ],
      "metadata": {
        "id": "tfHK585u5k5h"
      }
    },
    {
      "cell_type": "code",
      "source": [
        ""
      ],
      "metadata": {
        "id": "OopOUD3L5kLo"
      },
      "execution_count": null,
      "outputs": []
    },
    {
      "cell_type": "markdown",
      "source": [
        "#Week 8"
      ],
      "metadata": {
        "id": "hmiot30cSAub"
      }
    },
    {
      "cell_type": "code",
      "source": [
        ""
      ],
      "metadata": {
        "id": "Pu-_KHnQSDPT"
      },
      "execution_count": null,
      "outputs": []
    },
    {
      "cell_type": "markdown",
      "source": [
        "#Week 9"
      ],
      "metadata": {
        "id": "eY_VFLxVSEcb"
      }
    },
    {
      "cell_type": "code",
      "source": [
        "import matplotlib.pyplot as plt"
      ],
      "metadata": {
        "id": "qUss4j5pSGAq"
      },
      "execution_count": 9,
      "outputs": []
    },
    {
      "cell_type": "code",
      "source": [
        "P = np.array([0.3,0.4,0.5,0.6,0.7,0.8,0.9,1.0])\n",
        "Q = np.array([0.832,1.193,1.577,1.980,2.401,2.837,3.287,3.75])\n",
        "\n",
        "plt.clf()\n",
        "plt.figure(0)\n",
        "plt.plot(P,Q)\n",
        "plt.xlim(-0.1,3.5)\n",
        "plt.ylim(-0.1,3.5)\n",
        "\n",
        "print('$  Q = AP^B                   $\\n$  log_P (Q) = log_P (A) + B  $')\n",
        "Qequ = 80*(P**5)\n",
        "plt.plot(P,Qequ)"
      ],
      "metadata": {
        "id": "FsEjo57ISLjh",
        "outputId": "1102a445-647c-4304-b01f-2f41002170d1",
        "colab": {
          "base_uri": "https://localhost:8080/",
          "height": 338
        }
      },
      "execution_count": 39,
      "outputs": [
        {
          "output_type": "stream",
          "name": "stdout",
          "text": [
            "$  Q = AP^B                   $\n",
            "$  log_P (Q) = log_P (A) + B  $\n"
          ]
        },
        {
          "output_type": "execute_result",
          "data": {
            "text/plain": [
              "[<matplotlib.lines.Line2D at 0x7f6250fe6490>]"
            ]
          },
          "metadata": {},
          "execution_count": 39
        },
        {
          "output_type": "display_data",
          "data": {
            "text/plain": [
              "<Figure size 432x288 with 0 Axes>"
            ]
          },
          "metadata": {}
        },
        {
          "output_type": "display_data",
          "data": {
            "text/plain": [
              "<Figure size 432x288 with 1 Axes>"
            ],
            "image/png": "[encoded data removed]"
          },
          "metadata": {
            "needs_background": "light"
          }
        }
      ]
    },
    {
      "cell_type": "markdown",
      "source": [
        "\n",
        "\n",
        "> Indented block\n",
        "\n"
      ],
      "metadata": {
        "id": "ThFqGB4OTN6B"
      }
    }
  ]
}